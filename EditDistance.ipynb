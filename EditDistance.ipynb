{
  "nbformat": 4,
  "nbformat_minor": 0,
  "metadata": {
    "colab": {
      "name": "EditDistance.ipynb",
      "provenance": [],
      "authorship_tag": "ABX9TyPxVFi6UbsUTjTpgBlnBY50",
      "include_colab_link": true
    },
    "kernelspec": {
      "name": "python3",
      "display_name": "Python 3"
    },
    "language_info": {
      "name": "python"
    }
  },
  "cells": [
    {
      "cell_type": "markdown",
      "metadata": {
        "id": "view-in-github",
        "colab_type": "text"
      },
      "source": [
        "<a href=\"https://colab.research.google.com/github/bharathulaprasad/EditDistance/blob/main/EditDistance.ipynb\" target=\"_parent\"><img src=\"https://colab.research.google.com/assets/colab-badge.svg\" alt=\"Open In Colab\"/></a>"
      ]
    },
    {
      "cell_type": "code",
      "execution_count": 2,
      "metadata": {
        "colab": {
          "base_uri": "https://localhost:8080/"
        },
        "id": "PYqUzgM48tZR",
        "outputId": "1d51a3c6-fcb6-4fd4-ac23-c76bebe9ebfa"
      },
      "outputs": [
        {
          "output_type": "execute_result",
          "data": {
            "text/plain": [
              "4"
            ]
          },
          "metadata": {},
          "execution_count": 2
        }
      ],
      "source": [
        "import editdistance\n",
        "editdistance.eval('ABRGQSE', 'YBRGEQUS')"
      ]
    },
    {
      "cell_type": "markdown",
      "source": [
        "ERNSTY  QRSTXY PRISTTY"
      ],
      "metadata": {
        "id": "q3ztBUtUsLE4"
      }
    },
    {
      "cell_type": "code",
      "source": [
        "\n",
        "\n",
        "print(editdistance.eval('ERNSTY', 'QRSTXY'))\n",
        "print(editdistance.eval('ERNSTY', 'PRISTTY'))\n",
        "print(editdistance.eval('QRSTXY', 'ERNSTY'))\n",
        "print(editdistance.eval('PRISTTY', 'ERNSTY'))\n",
        "print(editdistance.eval('PRISTTY', 'QRSTXY'))\n",
        "print(editdistance.eval( 'QRSTXY', 'PRISTTY'))"
      ],
      "metadata": {
        "id": "LgICWhVasAtx",
        "outputId": "b9bed84b-a4cd-48ee-dcde-81726cc7518c",
        "colab": {
          "base_uri": "https://localhost:8080/"
        }
      },
      "execution_count": 4,
      "outputs": [
        {
          "output_type": "stream",
          "name": "stdout",
          "text": [
            "3\n",
            "3\n",
            "3\n",
            "3\n",
            "3\n",
            "3\n"
          ]
        }
      ]
    }
  ]
}