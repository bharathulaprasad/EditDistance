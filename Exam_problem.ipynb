{
  "nbformat": 4,
  "nbformat_minor": 0,
  "metadata": {
    "colab": {
      "name": "Exam problem.ipynb",
      "provenance": [],
      "authorship_tag": "ABX9TyPba5vZyF8e8xcGZczXgLls",
      "include_colab_link": true
    },
    "kernelspec": {
      "name": "python3",
      "display_name": "Python 3"
    },
    "language_info": {
      "name": "python"
    }
  },
  "cells": [
    {
      "cell_type": "markdown",
      "metadata": {
        "id": "view-in-github",
        "colab_type": "text"
      },
      "source": [
        "<a href=\"https://colab.research.google.com/github/bharathulaprasad/EditDistance/blob/main/Exam_problem.ipynb\" target=\"_parent\"><img src=\"https://colab.research.google.com/assets/colab-badge.svg\" alt=\"Open In Colab\"/></a>"
      ]
    },
    {
      "cell_type": "code",
      "execution_count": 1,
      "metadata": {
        "colab": {
          "base_uri": "https://localhost:8080/"
        },
        "id": "rIafcygImIs7",
        "outputId": "61b24c84-c717-4fdf-9c84-b86c40ef5c0a"
      },
      "outputs": [
        {
          "output_type": "stream",
          "name": "stdout",
          "text": [
            "#mw-head\n",
            "#searchInput\n",
            "#cite_note-1\n",
            "#cite_note-2\n",
            "//geohack.toolforge.org/geohack.php?pagename=Indian_Institute_of_Information_Technology,_Guwahati&params=26.0813094_N_91.5619965_E_type:edu_region:IN\n",
            "//geohack.toolforge.org/geohack.php?pagename=Indian_Institute_of_Information_Technology,_Guwahati&params=26.0813094_N_91.5619965_E_type:edu_region:IN\n",
            "http://www.iiitg.ac.in/\n",
            "#cite_note-3\n",
            "#History\n",
            "#Foundation\n",
            "#Academics\n",
            "#Campus\n",
            "#Annual_festivals\n",
            "#References\n",
            "/w/index.php?title=Indian_Institute_of_Information_Technology,_Guwahati&action=edit&section=1\n",
            "#cite_note-4\n",
            "#cite_note-5\n",
            "/w/index.php?title=Indian_Institute_of_Information_Technology,_Guwahati&action=edit&section=2\n",
            "#cite_note-6\n",
            "/w/index.php?title=Indian_Institute_of_Information_Technology,_Guwahati&action=edit&section=3\n",
            "#cite_note-7\n",
            "#cite_note-8\n",
            "/w/index.php?title=Indian_Institute_of_Information_Technology,_Guwahati&action=edit&section=4\n",
            "/w/index.php?title=Indian_Institute_of_Information_Technology,_Guwahati&action=edit&section=5\n",
            "#cite_note-9\n",
            "/w/index.php?title=Indian_Institute_of_Information_Technology,_Guwahati&action=edit&section=6\n",
            "#cite_ref-1\n",
            "http://iiitg.ac.in/administration.php\n",
            "#cite_ref-2\n",
            "http://www.iitg.ernet.in/gb/\n",
            "#cite_ref-3\n",
            "http://iiitg.ac.in/about_iiitg.php\n",
            "#cite_ref-4\n",
            "http://www.thehindubusinessline.com/economy/policy/bill-in-lok-sabha-to-set-up-20-more-iiits/article4521942.ece\n",
            "#cite_ref-5\n",
            "http://www.iiitg.ac.in/pdfjs/web/viewer.html?file=MOU_IIITG_signed.pdf\n",
            "#cite_ref-6\n",
            "http://www.business-standard.com/article/government-press-release/pm-unveils-plaque-for-foundation-stone-of-campus-for-iiit-guwahati-116011900834_1.html\n",
            "#cite_ref-7\n",
            "http://www.iiitg.ac.in/Undergraduate.html\n",
            "#cite_ref-8\n",
            "https://web.archive.org/web/20150207011404/http://iiitg.ac.in/phd.html\n",
            "http://iiitg.ac.in/phd.html\n",
            "#cite_ref-9\n",
            "http://www.iiitg.ac.in/yuvaan2k18/index.php#about\n",
            "https://en.wikipedia.org/w/index.php?title=Template:Indian_Institutes_of_Information_Technology&action=edit\n",
            "https://www.wikidata.org/wiki/Q14956998#identifiers\n",
            "https://isni.org/isni/0000000492840348\n",
            "https://en.wikipedia.org/w/index.php?title=Indian_Institute_of_Information_Technology,_Guwahati&oldid=1069372551\n",
            "/w/index.php?title=Special:CreateAccount&returnto=Indian+Institute+of+Information+Technology%2C+Guwahati\n",
            "/w/index.php?title=Special:UserLogin&returnto=Indian+Institute+of+Information+Technology%2C+Guwahati\n",
            "/w/index.php?title=Indian_Institute_of_Information_Technology,_Guwahati&action=edit\n",
            "/w/index.php?title=Indian_Institute_of_Information_Technology,_Guwahati&action=history\n",
            "//en.wikipedia.org/wiki/Wikipedia:Contact_us\n",
            "https://donate.wikimedia.org/wiki/Special:FundraiserRedirector?utm_source=donate&utm_medium=sidebar&utm_campaign=C13_en.wikipedia.org&uselang=en\n",
            "/w/index.php?title=Indian_Institute_of_Information_Technology,_Guwahati&oldid=1069372551\n",
            "/w/index.php?title=Indian_Institute_of_Information_Technology,_Guwahati&action=info\n",
            "/w/index.php?title=Special:CiteThisPage&page=Indian_Institute_of_Information_Technology%2C_Guwahati&id=1069372551&wpFormIdentifier=titleform\n",
            "https://www.wikidata.org/wiki/Special:EntityPage/Q14956998\n",
            "/w/index.php?title=Special:DownloadAsPdf&page=Indian_Institute_of_Information_Technology%2C_Guwahati&action=show-download-screen\n",
            "/w/index.php?title=Indian_Institute_of_Information_Technology,_Guwahati&printable=yes\n",
            "https://as.wikipedia.org/wiki/%E0%A6%AD%E0%A6%BE%E0%A7%B0%E0%A6%A4%E0%A7%80%E0%A6%AF%E0%A6%BC_%E0%A6%A4%E0%A6%A5%E0%A7%8D%E0%A6%AF_%E0%A6%AA%E0%A7%8D%E0%A7%B0%E0%A6%AF%E0%A7%81%E0%A6%95%E0%A7%8D%E0%A6%A4%E0%A6%BF%E0%A6%AC%E0%A6%BF%E0%A6%A6%E0%A7%8D%E0%A6%AF%E0%A6%BE_%E0%A6%AA%E0%A7%8D%E0%A7%B0%E0%A6%A4%E0%A6%BF%E0%A6%B7%E0%A7%8D%E0%A6%A0%E0%A6%BE%E0%A6%A8,_%E0%A6%97%E0%A7%81%E0%A7%B1%E0%A6%BE%E0%A6%B9%E0%A6%BE%E0%A6%9F%E0%A7%80\n",
            "https://bn.wikipedia.org/wiki/%E0%A6%AD%E0%A6%BE%E0%A6%B0%E0%A6%A4%E0%A7%80%E0%A6%AF%E0%A6%BC_%E0%A6%A4%E0%A6%A5%E0%A7%8D%E0%A6%AF_%E0%A6%AA%E0%A7%8D%E0%A6%B0%E0%A6%AF%E0%A7%81%E0%A6%95%E0%A7%8D%E0%A6%A4%E0%A6%BF%E0%A6%AC%E0%A6%BF%E0%A6%A6%E0%A7%8D%E0%A6%AF%E0%A6%BE_%E0%A6%AA%E0%A7%8D%E0%A6%B0%E0%A6%A4%E0%A6%BF%E0%A6%B7%E0%A7%8D%E0%A6%A0%E0%A6%BE%E0%A6%A8,_%E0%A6%97%E0%A7%81%E0%A6%AF%E0%A6%BC%E0%A6%BE%E0%A6%B9%E0%A6%BE%E0%A6%9F%E0%A6%BF\n",
            "https://www.wikidata.org/wiki/Special:EntityPage/Q14956998#sitelinks-wikipedia\n",
            "//en.wikipedia.org/wiki/Wikipedia:Text_of_Creative_Commons_Attribution-ShareAlike_3.0_Unported_License\n",
            "//creativecommons.org/licenses/by-sa/3.0/\n",
            "//foundation.wikimedia.org/wiki/Terms_of_Use\n",
            "//foundation.wikimedia.org/wiki/Privacy_policy\n",
            "//www.wikimediafoundation.org/\n",
            "https://foundation.wikimedia.org/wiki/Privacy_policy\n",
            "//en.wikipedia.org/wiki/Wikipedia:Contact_us\n",
            "//en.m.wikipedia.org/w/index.php?title=Indian_Institute_of_Information_Technology,_Guwahati&mobileaction=toggle_view_mobile\n",
            "https://www.mediawiki.org/wiki/Special:MyLanguage/How_to_contribute\n",
            "https://stats.wikimedia.org/#/en.wikipedia.org\n",
            "https://foundation.wikimedia.org/wiki/Cookie_statement\n",
            "https://wikimediafoundation.org/\n",
            "https://www.mediawiki.org/\n"
          ]
        }
      ],
      "source": [
        "from urllib.request import urlopen\n",
        "from bs4 import BeautifulSoup\n",
        "import re\n",
        "html=urlopen('https://en.wikipedia.org/wiki/Indian_Institute_of_Information_Technology,_Guwahati')\n",
        "bs=BeautifulSoup(html, 'html.parser');\n",
        "for link in bs.find_all('a', href=re.compile('^(?!/wiki/)(.)*$')):\n",
        "  if 'href' in link.attrs:\n",
        "    print(link.attrs['href'])"
      ]
    }
  ]
}